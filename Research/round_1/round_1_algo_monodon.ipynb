{
 "cells": [
  {
   "cell_type": "code",
   "execution_count": 1,
   "metadata": {},
   "outputs": [],
   "source": [
    "import numpy as np"
   ]
  },
  {
   "cell_type": "code",
   "execution_count": 107,
   "metadata": {},
   "outputs": [
    {
     "name": "stdout",
     "output_type": "stream",
     "text": [
      "{'buy_orders': {5009: 7, 5008: 1, 5007: 0}, 'sell_orders': {5010: -8, 5011: -3, 5012: 0}}\n"
     ]
    }
   ],
   "source": [
    "orderbook = {\n",
    "    \"buy_orders\":{\n",
    "        5009:7,\n",
    "        5008:1,\n",
    "        5007:0,\n",
    "    }, \n",
    "    \"sell_orders\":{\n",
    "        5010:-8,\n",
    "        5011:-3,\n",
    "        5012:0,\n",
    "    }\n",
    "}\n",
    "print(orderbook)"
   ]
  },
  {
   "cell_type": "code",
   "execution_count": 108,
   "metadata": {},
   "outputs": [],
   "source": [
    "buys = orderbook[\"buy_orders\"]\n",
    "sells = orderbook[\"sell_orders\"]"
   ]
  },
  {
   "cell_type": "code",
   "execution_count": 110,
   "metadata": {},
   "outputs": [
    {
     "name": "stdout",
     "output_type": "stream",
     "text": [
      "[(5009, 7), (5008, 1), (5007, 0)]\n",
      "symmetry and total symetry:  [-1, -2, 0] -5\n",
      "Movement_ratio:  0.6\n",
      "OBI:  -0.38245614035087716\n",
      "total_Q:  19\n",
      "available Qt:  -7  =  -4  +  2\n",
      "reservation_level:  2\n",
      "best_bid/best_ask:  5009  |  5010\n",
      "reservation bid/ask:  5007 : 2  |  5012 : -4\n"
     ]
    }
   ],
   "source": [
    "#symetry calculates the q discrepancy in each depth level. This will help find quantity to allocate to optimize q allocated to maintain a similar ratio\n",
    "symetry = []\n",
    "OBI = 0\n",
    "numerator = 0\n",
    "denominator = 0\n",
    "Qt = 0\n",
    "print(list(buys.items()))\n",
    "for i in range(3):\n",
    "    level_bid_Q = list(buys.items())[i][1]\n",
    "\n",
    "    level_ask_Q = list(sells.items())[i][1]\n",
    "    Qt += -level_ask_Q + level_bid_Q\n",
    "    numerator += level_ask_Q+level_bid_Q\n",
    "    denominator += level_bid_Q - level_ask_Q\n",
    "    OBI += numerator / denominator\n",
    "    sym = level_bid_Q + level_ask_Q\n",
    "    symetry.append(sym)\n",
    "\n",
    "total_symetry = 0\n",
    "for i, L in enumerate(symetry):\n",
    "    total_symetry += symetry[i] * (i+1)\n",
    "print(\"symmetry and total symetry: \", symetry, total_symetry)\n",
    "movement_ratio = sum(symetry)/total_symetry\n",
    "print(\"Movement_ratio: \", movement_ratio)\n",
    "print(\"OBI: \", OBI)\n",
    "print(\"total_Q: \", Qt)\n",
    "available_Qt = np.int16(OBI * Qt)\n",
    "available_Qa = -(np.abs(np.int16(movement_ratio * available_Qt)))\n",
    "available_Qb = np.abs(np.int16((1-movement_ratio) * available_Qt))\n",
    "print(\"available Qt: \",available_Qt,\" = \", available_Qa,\" + \", available_Qb)\n",
    "reservation_level = np.abs(total_symetry - sum(symetry))\n",
    "print(\"reservation_level: \", reservation_level)\n",
    "\n",
    "best_bid = list(buys.items())[0][0]\n",
    "best_ask = list(sells.items())[0][0]\n",
    "print(\"best_bid/best_ask: \", best_bid, \" | \", best_ask)\n",
    "\n",
    "Ra, Rb = list(sells.items())[0][0] + reservation_level, list(buys.items())[0][0] - reservation_level\n",
    "Ra_Q, Rb_Q = available_Qa, available_Qb\n",
    "\n",
    "print(\"reservation bid/ask: \",Rb,\":\",Rb_Q, \" | \",Ra,\":\",Ra_Q)"
   ]
  },
  {
   "cell_type": "code",
   "execution_count": 102,
   "metadata": {},
   "outputs": [
    {
     "name": "stdout",
     "output_type": "stream",
     "text": [
      "{'buy_orders': {5009: 7, 5008: 1, 5007: 7}, 'sell_orders': {5010: -8, 5011: -3, 5012: -11}}\n"
     ]
    }
   ],
   "source": [
    "new_orderbook = {\n",
    "    \"buy_orders\":{\n",
    "        5009:7,\n",
    "        5008:1,\n",
    "        5007:0+7,\n",
    "    }, \n",
    "    \"sell_orders\":{\n",
    "        5010:-8,\n",
    "        5011:-3,\n",
    "        5012:0-11,\n",
    "    }\n",
    "}\n",
    "print(new_orderbook)"
   ]
  },
  {
   "cell_type": "code",
   "execution_count": 103,
   "metadata": {},
   "outputs": [],
   "source": [
    "buys = new_orderbook[\"buy_orders\"]\n",
    "sells = new_orderbook[\"sell_orders\"]"
   ]
  },
  {
   "cell_type": "code",
   "execution_count": 105,
   "metadata": {},
   "outputs": [
    {
     "name": "stdout",
     "output_type": "stream",
     "text": [
      "[(5009, 7), (5008, 1), (5007, 7)]\n",
      "symmetry and total symetry:  [-1, -2, -4] -17\n",
      "Movement_ratio:  0.4117647058823529\n",
      "OBI:  -0.4137505926979611\n",
      "total_Q:  37\n",
      "available Qt:  -15  =  -6  +  8\n",
      "reservation_level:  10\n",
      "best_bid/best_ask:  5009  |  5010\n",
      "reservation bid/ask:  4999 : 8  |  5020 : -6\n"
     ]
    }
   ],
   "source": [
    "#symetry calculates the q discrepancy in each depth level. This will help find quantity to allocate to optimize q allocated to maintain a similar ratio\n",
    "symetry = []\n",
    "OBI = 0\n",
    "numerator = 0\n",
    "denominator = 0\n",
    "Qt = 0\n",
    "print(list(buys.items()))\n",
    "for i in range(3):\n",
    "    level_bid_Q = list(buys.items())[i][1]\n",
    "\n",
    "    level_ask_Q = list(sells.items())[i][1]\n",
    "    Qt += -level_ask_Q + level_bid_Q\n",
    "    numerator += level_ask_Q+level_bid_Q\n",
    "    denominator += level_bid_Q - level_ask_Q\n",
    "    OBI += numerator / denominator\n",
    "    sym = level_bid_Q + level_ask_Q\n",
    "    symetry.append(sym)\n",
    "\n",
    "total_symetry = 0\n",
    "for i, L in enumerate(symetry):\n",
    "    total_symetry += symetry[i] * (i+1)\n",
    "print(\"symmetry and total symetry: \", symetry, total_symetry)\n",
    "movement_ratio = sum(symetry)/total_symetry\n",
    "print(\"Movement_ratio: \", movement_ratio)\n",
    "print(\"OBI: \", OBI)\n",
    "print(\"total_Q: \", Qt)\n",
    "available_Qt = np.int16(OBI * Qt)\n",
    "available_Qa = -(np.abs(np.int16(movement_ratio * available_Qt)))\n",
    "available_Qb = np.abs(np.int16((1-movement_ratio) * available_Qt))\n",
    "print(\"available Qt: \",available_Qt,\" = \", available_Qa,\" + \", available_Qb)\n",
    "reservation_level = np.abs(total_symetry - sum(symetry))\n",
    "print(\"reservation_level: \", reservation_level)\n",
    "\n",
    "best_bid = list(buys.items())[0][0]\n",
    "best_ask = list(sells.items())[0][0]\n",
    "print(\"best_bid/best_ask: \", best_bid, \" | \", best_ask)\n",
    "\n",
    "Ra, Rb = list(sells.items())[0][0] + reservation_level, list(buys.items())[0][0] - reservation_level\n",
    "Ra_Q, Rb_Q = available_Qa, available_Qb\n",
    "\n",
    "print(\"reservation bid/ask: \",Rb,\":\",Rb_Q, \" | \",Ra,\":\",Ra_Q)"
   ]
  },
  {
   "cell_type": "code",
   "execution_count": null,
   "metadata": {},
   "outputs": [],
   "source": []
  },
  {
   "cell_type": "code",
   "execution_count": null,
   "metadata": {},
   "outputs": [],
   "source": []
  }
 ],
 "metadata": {
  "kernelspec": {
   "display_name": ".venv",
   "language": "python",
   "name": "python3"
  },
  "language_info": {
   "codemirror_mode": {
    "name": "ipython",
    "version": 3
   },
   "file_extension": ".py",
   "mimetype": "text/x-python",
   "name": "python",
   "nbconvert_exporter": "python",
   "pygments_lexer": "ipython3",
   "version": "3.11.5"
  }
 },
 "nbformat": 4,
 "nbformat_minor": 2
}
