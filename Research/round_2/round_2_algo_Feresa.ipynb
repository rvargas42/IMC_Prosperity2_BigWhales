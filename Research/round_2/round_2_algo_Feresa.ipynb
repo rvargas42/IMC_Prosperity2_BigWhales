{
 "cells": [
  {
   "cell_type": "code",
   "execution_count": 1,
   "metadata": {},
   "outputs": [],
   "source": [
    "import numpy as np"
   ]
  },
  {
   "cell_type": "code",
   "execution_count": 160,
   "metadata": {},
   "outputs": [
    {
     "name": "stdout",
     "output_type": "stream",
     "text": [
      "{'buy_orders': {5009: 10, 5008: 11, 5007: 0}, 'sell_orders': {5010: -6, 5011: -8, 5012: -10}}\n"
     ]
    }
   ],
   "source": [
    "orderbook = {\n",
    "    \"buy_orders\":{\n",
    "        5009:10,\n",
    "        5008:11,\n",
    "        5007:0,\n",
    "    }, \n",
    "    \"sell_orders\":{\n",
    "        5010:-6,\n",
    "        5011:-8,\n",
    "        5012:-10,\n",
    "    }\n",
    "}\n",
    "print(orderbook)"
   ]
  },
  {
   "cell_type": "code",
   "execution_count": 161,
   "metadata": {},
   "outputs": [],
   "source": [
    "buys = orderbook[\"buy_orders\"]\n",
    "sells = orderbook[\"sell_orders\"]"
   ]
  },
  {
   "cell_type": "code",
   "execution_count": 162,
   "metadata": {},
   "outputs": [
    {
     "name": "stdout",
     "output_type": "stream",
     "text": [
      "[(5009, 10), (5008, 11), (5007, 0)]\n",
      "symmetry and total symetry:  [4, 3, -10] -20\n",
      "Movement_ratio:  0.15\n",
      "OBI:  0.38333333333333336\n",
      "total_Q:  45\n",
      "available Qt:  17  =  -2  +  14\n",
      "reservation_level:  3\n",
      "best_bid/best_ask:  5009  |  5010\n",
      "reservation bid/ask:  5006 : 14  |  5013 : -2\n"
     ]
    }
   ],
   "source": [
    "#symetry calculates the q discrepancy in each depth level. This will help find quantity to allocate to optimize q allocated to maintain a similar ratio\n",
    "symetry = []\n",
    "OBI = 0\n",
    "numerator = 0\n",
    "denominator = 0\n",
    "Qt = 0\n",
    "print(list(buys.items()))\n",
    "for i in range(3):\n",
    "    level_bid_Q = list(buys.items())[i][1]\n",
    "\n",
    "    level_ask_Q = list(sells.items())[i][1]\n",
    "    Qt += -level_ask_Q + level_bid_Q\n",
    "    numerator += level_ask_Q+level_bid_Q\n",
    "    denominator += level_bid_Q - level_ask_Q\n",
    "    OBI += numerator / denominator\n",
    "    sym = level_bid_Q + level_ask_Q\n",
    "    symetry.append(sym)\n",
    "\n",
    "total_symetry = 0\n",
    "for i, L in enumerate(symetry):\n",
    "    total_symetry += symetry[i] * (i+1)\n",
    "print(\"symmetry and total symetry: \", symetry, total_symetry)\n",
    "movement_ratio = sum(symetry)/total_symetry\n",
    "print(\"Movement_ratio: \", movement_ratio)\n",
    "print(\"OBI: \", OBI)\n",
    "print(\"total_Q: \", Qt)\n",
    "available_Qt = np.int16(OBI * Qt)\n",
    "available_Qa = -(np.abs(np.int16(movement_ratio * available_Qt)))\n",
    "available_Qb = np.abs(np.int16((1-movement_ratio) * available_Qt))\n",
    "print(\"available Qt: \",available_Qt,\" = \", available_Qa,\" + \", available_Qb)\n",
    "reservation_level = np.min([np.abs(total_symetry - sum(symetry)), 3])\n",
    "print(\"reservation_level: \", reservation_level)\n",
    "\n",
    "best_bid = list(buys.items())[0][0]\n",
    "best_ask = list(sells.items())[0][0]\n",
    "print(\"best_bid/best_ask: \", best_bid, \" | \", best_ask)\n",
    "\n",
    "Ra, Rb = list(sells.items())[0][0] + reservation_level, list(buys.items())[0][0] - reservation_level\n",
    "Ra_Q, Rb_Q = available_Qa, available_Qb\n",
    "\n",
    "print(\"reservation bid/ask: \",Rb,\":\",Rb_Q, \" | \",Ra,\":\",Ra_Q)"
   ]
  },
  {
   "cell_type": "code",
   "execution_count": 166,
   "metadata": {},
   "outputs": [
    {
     "name": "stdout",
     "output_type": "stream",
     "text": [
      "{'buy_orders': {5009: 100, 5008: 398}, 'sell_orders': {5010: -304, 5011: -506}}\n"
     ]
    }
   ],
   "source": [
    "new_orderbook = {\n",
    "    \"buy_orders\":{\n",
    "        5009:100,\n",
    "        5008:398,\n",
    "    }, \n",
    "    \"sell_orders\":{\n",
    "        5010:-304,\n",
    "        5011:-506,\n",
    "    }\n",
    "}\n",
    "print(new_orderbook)"
   ]
  },
  {
   "cell_type": "code",
   "execution_count": 167,
   "metadata": {},
   "outputs": [],
   "source": [
    "buys = new_orderbook[\"buy_orders\"]\n",
    "sells = new_orderbook[\"sell_orders\"]"
   ]
  },
  {
   "cell_type": "code",
   "execution_count": 168,
   "metadata": {},
   "outputs": [
    {
     "name": "stdout",
     "output_type": "stream",
     "text": [
      "[(5009, 100), (5008, 398)]\n",
      "symmetry and total symetry:  [-204, -108] -420\n",
      "Movement_ratio:  0.7428571428571429\n",
      "OBI:  -0.7434826051412481\n",
      "total_Q:  1308\n",
      "available Qt:  -972  =  -361  +  124\n",
      "reservation_level:  3\n",
      "best_bid/best_ask:  5009  |  5010\n",
      "reservation bid/ask:  5006 : 124  |  5013 : -361\n"
     ]
    }
   ],
   "source": [
    "#symetry calculates the q discrepancy in each depth level. This will help find quantity to allocate to optimize q allocated to maintain a similar ratio\n",
    "symetry = []\n",
    "OBI = 0\n",
    "numerator = 0\n",
    "denominator = 0\n",
    "Qt = 0\n",
    "Qat = 0\n",
    "Qbt = 0\n",
    "print(list(buys.items()))\n",
    "for i in range(2):\n",
    "    level_bid_Q = list(buys.items())[i][1]\n",
    "    level_ask_Q = list(sells.items())[i][1]\n",
    "    Qat += level_ask_Q\n",
    "    Qbt += level_bid_Q\n",
    "    Qt += -level_ask_Q + level_bid_Q\n",
    "    numerator += level_ask_Q+level_bid_Q\n",
    "    denominator += level_bid_Q - level_ask_Q\n",
    "    OBI += numerator / denominator\n",
    "    sym = level_bid_Q + level_ask_Q\n",
    "    symetry.append(sym)\n",
    "\n",
    "total_symetry = 0\n",
    "for i, L in enumerate(symetry):\n",
    "    total_symetry += symetry[i] * (i+1)\n",
    "print(\"symmetry and total symetry: \", symetry, total_symetry)\n",
    "movement_ratio = sum(symetry)/total_symetry\n",
    "print(\"Movement_ratio: \", movement_ratio)\n",
    "print(\"OBI: \", OBI)\n",
    "print(\"total_Q: \", Qt)\n",
    "available_Qt = np.int16(OBI * Qt)\n",
    "available_Qa = -(np.abs(np.int16(movement_ratio * (available_Qt/2))))\n",
    "available_Qb = np.abs(np.int16((1-movement_ratio) * (available_Qt/2)))\n",
    "print(\"available Qt: \",available_Qt,\" = \", available_Qa,\" + \", available_Qb)\n",
    "reservation_level = np.min([np.abs(total_symetry - sum(symetry)), 3])\n",
    "print(\"reservation_level: \", reservation_level)\n",
    "\n",
    "best_bid = list(buys.items())[0][0]\n",
    "best_ask = list(sells.items())[0][0]\n",
    "print(\"best_bid/best_ask: \", best_bid, \" | \", best_ask)\n",
    "\n",
    "Ra, Rb = list(sells.items())[0][0] + reservation_level, list(buys.items())[0][0] - reservation_level\n",
    "Ra_Q, Rb_Q = available_Qa, available_Qb\n",
    "\n",
    "print(\"reservation bid/ask: \",Rb,\":\",Rb_Q, \" | \",Ra,\":\",Ra_Q)"
   ]
  },
  {
   "cell_type": "code",
   "execution_count": null,
   "metadata": {},
   "outputs": [],
   "source": []
  },
  {
   "cell_type": "code",
   "execution_count": null,
   "metadata": {},
   "outputs": [],
   "source": []
  }
 ],
 "metadata": {
  "kernelspec": {
   "display_name": ".venv",
   "language": "python",
   "name": "python3"
  },
  "language_info": {
   "codemirror_mode": {
    "name": "ipython",
    "version": 3
   },
   "file_extension": ".py",
   "mimetype": "text/x-python",
   "name": "python",
   "nbconvert_exporter": "python",
   "pygments_lexer": "ipython3",
   "version": "3.11.5"
  }
 },
 "nbformat": 4,
 "nbformat_minor": 2
}
